{
 "cells": [
  {
   "cell_type": "code",
   "execution_count": 2,
   "id": "5b00eb82",
   "metadata": {},
   "outputs": [],
   "source": [
    "import pandas as pd\n",
    "import sqlite3"
   ]
  },
  {
   "cell_type": "code",
   "execution_count": 8,
   "id": "ebdf7f1c",
   "metadata": {},
   "outputs": [],
   "source": [
    "import matplotlib.pyplot as plt"
   ]
  },
  {
   "cell_type": "code",
   "execution_count": 9,
   "id": "3a1663dc",
   "metadata": {},
   "outputs": [],
   "source": [
    "db_path = r'..\\data\\traffic_data_cleaned.sqlite'"
   ]
  },
  {
   "cell_type": "code",
   "execution_count": 10,
   "id": "0d6b344d",
   "metadata": {},
   "outputs": [],
   "source": [
    "conn = sqlite3.connect(db_path)"
   ]
  },
  {
   "cell_type": "code",
   "execution_count": 11,
   "id": "623920c8",
   "metadata": {},
   "outputs": [
    {
     "name": "stdout",
     "output_type": "stream",
     "text": [
      "Tables in the database:            name\n",
      "0  traffic_data\n"
     ]
    }
   ],
   "source": [
    "tables = pd.read_sql_query(\"SELECT name FROM sqlite_master WHERE type='table';\", conn)\n",
    "print(\"Tables in the database:\", tables)"
   ]
  },
  {
   "cell_type": "code",
   "execution_count": 12,
   "id": "d4d867a9",
   "metadata": {},
   "outputs": [],
   "source": [
    "table_name = 'traffic_data'"
   ]
  },
  {
   "cell_type": "code",
   "execution_count": 13,
   "id": "33e07ec8",
   "metadata": {},
   "outputs": [
    {
     "data": {
      "text/html": [
       "<div>\n",
       "<style scoped>\n",
       "    .dataframe tbody tr th:only-of-type {\n",
       "        vertical-align: middle;\n",
       "    }\n",
       "\n",
       "    .dataframe tbody tr th {\n",
       "        vertical-align: top;\n",
       "    }\n",
       "\n",
       "    .dataframe thead th {\n",
       "        text-align: right;\n",
       "    }\n",
       "</style>\n",
       "<table border=\"1\" class=\"dataframe\">\n",
       "  <thead>\n",
       "    <tr style=\"text-align: right;\">\n",
       "      <th></th>\n",
       "      <th>date</th>\n",
       "      <th>time</th>\n",
       "      <th>zone</th>\n",
       "      <th>race</th>\n",
       "      <th>sex</th>\n",
       "      <th>type</th>\n",
       "      <th>arrest_made</th>\n",
       "      <th>warning_issued</th>\n",
       "      <th>outcome</th>\n",
       "      <th>contraband_found</th>\n",
       "      <th>...</th>\n",
       "      <th>contraband_alcohol</th>\n",
       "      <th>contraband_other</th>\n",
       "      <th>frisk_performed</th>\n",
       "      <th>search_conducted</th>\n",
       "      <th>search_basis</th>\n",
       "      <th>reason_for_search</th>\n",
       "      <th>reason_for_stop</th>\n",
       "      <th>vehicle_make</th>\n",
       "      <th>vehicle_model</th>\n",
       "      <th>state</th>\n",
       "    </tr>\n",
       "  </thead>\n",
       "  <tbody>\n",
       "    <tr>\n",
       "      <th>0</th>\n",
       "      <td>2014-01-01</td>\n",
       "      <td>01:05:00</td>\n",
       "      <td>000</td>\n",
       "      <td>white</td>\n",
       "      <td>male</td>\n",
       "      <td>vehicular</td>\n",
       "      <td>000</td>\n",
       "      <td>1</td>\n",
       "      <td>warning</td>\n",
       "      <td>000</td>\n",
       "      <td>...</td>\n",
       "      <td>000</td>\n",
       "      <td>000</td>\n",
       "      <td>000</td>\n",
       "      <td>000</td>\n",
       "      <td>000</td>\n",
       "      <td>000</td>\n",
       "      <td>000</td>\n",
       "      <td>000</td>\n",
       "      <td>000</td>\n",
       "      <td>New Hampshire</td>\n",
       "    </tr>\n",
       "    <tr>\n",
       "      <th>1</th>\n",
       "      <td>2014-01-01</td>\n",
       "      <td>13:05:00</td>\n",
       "      <td>000</td>\n",
       "      <td>000</td>\n",
       "      <td>male</td>\n",
       "      <td>vehicular</td>\n",
       "      <td>000</td>\n",
       "      <td>1</td>\n",
       "      <td>warning</td>\n",
       "      <td>000</td>\n",
       "      <td>...</td>\n",
       "      <td>000</td>\n",
       "      <td>000</td>\n",
       "      <td>000</td>\n",
       "      <td>000</td>\n",
       "      <td>000</td>\n",
       "      <td>000</td>\n",
       "      <td>000</td>\n",
       "      <td>000</td>\n",
       "      <td>000</td>\n",
       "      <td>New Hampshire</td>\n",
       "    </tr>\n",
       "    <tr>\n",
       "      <th>2</th>\n",
       "      <td>2014-01-01</td>\n",
       "      <td>13:09:00</td>\n",
       "      <td>000</td>\n",
       "      <td>000</td>\n",
       "      <td>female</td>\n",
       "      <td>vehicular</td>\n",
       "      <td>000</td>\n",
       "      <td>1</td>\n",
       "      <td>warning</td>\n",
       "      <td>000</td>\n",
       "      <td>...</td>\n",
       "      <td>000</td>\n",
       "      <td>000</td>\n",
       "      <td>000</td>\n",
       "      <td>000</td>\n",
       "      <td>000</td>\n",
       "      <td>000</td>\n",
       "      <td>000</td>\n",
       "      <td>000</td>\n",
       "      <td>000</td>\n",
       "      <td>New Hampshire</td>\n",
       "    </tr>\n",
       "    <tr>\n",
       "      <th>3</th>\n",
       "      <td>2014-01-01</td>\n",
       "      <td>01:11:00</td>\n",
       "      <td>000</td>\n",
       "      <td>white</td>\n",
       "      <td>male</td>\n",
       "      <td>vehicular</td>\n",
       "      <td>000</td>\n",
       "      <td>1</td>\n",
       "      <td>warning</td>\n",
       "      <td>000</td>\n",
       "      <td>...</td>\n",
       "      <td>000</td>\n",
       "      <td>000</td>\n",
       "      <td>000</td>\n",
       "      <td>000</td>\n",
       "      <td>000</td>\n",
       "      <td>000</td>\n",
       "      <td>000</td>\n",
       "      <td>000</td>\n",
       "      <td>000</td>\n",
       "      <td>New Hampshire</td>\n",
       "    </tr>\n",
       "    <tr>\n",
       "      <th>4</th>\n",
       "      <td>2014-01-01</td>\n",
       "      <td>01:14:00</td>\n",
       "      <td>000</td>\n",
       "      <td>000</td>\n",
       "      <td>male</td>\n",
       "      <td>vehicular</td>\n",
       "      <td>000</td>\n",
       "      <td>1</td>\n",
       "      <td>warning</td>\n",
       "      <td>000</td>\n",
       "      <td>...</td>\n",
       "      <td>000</td>\n",
       "      <td>000</td>\n",
       "      <td>000</td>\n",
       "      <td>000</td>\n",
       "      <td>000</td>\n",
       "      <td>000</td>\n",
       "      <td>000</td>\n",
       "      <td>000</td>\n",
       "      <td>000</td>\n",
       "      <td>New Hampshire</td>\n",
       "    </tr>\n",
       "  </tbody>\n",
       "</table>\n",
       "<p>5 rows × 22 columns</p>\n",
       "</div>"
      ],
      "text/plain": [
       "         date      time zone   race     sex       type arrest_made  \\\n",
       "0  2014-01-01  01:05:00  000  white    male  vehicular         000   \n",
       "1  2014-01-01  13:05:00  000    000    male  vehicular         000   \n",
       "2  2014-01-01  13:09:00  000    000  female  vehicular         000   \n",
       "3  2014-01-01  01:11:00  000  white    male  vehicular         000   \n",
       "4  2014-01-01  01:14:00  000    000    male  vehicular         000   \n",
       "\n",
       "  warning_issued  outcome contraband_found  ... contraband_alcohol  \\\n",
       "0              1  warning              000  ...                000   \n",
       "1              1  warning              000  ...                000   \n",
       "2              1  warning              000  ...                000   \n",
       "3              1  warning              000  ...                000   \n",
       "4              1  warning              000  ...                000   \n",
       "\n",
       "  contraband_other frisk_performed search_conducted search_basis  \\\n",
       "0              000             000              000          000   \n",
       "1              000             000              000          000   \n",
       "2              000             000              000          000   \n",
       "3              000             000              000          000   \n",
       "4              000             000              000          000   \n",
       "\n",
       "  reason_for_search reason_for_stop vehicle_make vehicle_model          state  \n",
       "0               000             000          000           000  New Hampshire  \n",
       "1               000             000          000           000  New Hampshire  \n",
       "2               000             000          000           000  New Hampshire  \n",
       "3               000             000          000           000  New Hampshire  \n",
       "4               000             000          000           000  New Hampshire  \n",
       "\n",
       "[5 rows x 22 columns]"
      ]
     },
     "execution_count": 13,
     "metadata": {},
     "output_type": "execute_result"
    }
   ],
   "source": [
    "data = pd.read_sql_query(f\"SELECT * FROM {table_name} LIMIT 5;\", conn)\n",
    "data.head()"
   ]
  },
  {
   "cell_type": "code",
   "execution_count": 14,
   "id": "0ca50460",
   "metadata": {},
   "outputs": [
    {
     "data": {
      "text/plain": [
       "(5, 22)"
      ]
     },
     "execution_count": 14,
     "metadata": {},
     "output_type": "execute_result"
    }
   ],
   "source": [
    "data.shape"
   ]
  },
  {
   "cell_type": "code",
   "execution_count": 15,
   "id": "a062fbc8",
   "metadata": {},
   "outputs": [],
   "source": [
    "cursor = conn.cursor()"
   ]
  },
  {
   "cell_type": "code",
   "execution_count": 16,
   "id": "98acc6ed",
   "metadata": {},
   "outputs": [
    {
     "data": {
      "text/plain": [
       "<sqlite3.Cursor at 0x1f770c1df40>"
      ]
     },
     "execution_count": 16,
     "metadata": {},
     "output_type": "execute_result"
    }
   ],
   "source": [
    "cursor.execute(\"SELECT COUNT(*) FROM traffic_data;\")"
   ]
  },
  {
   "cell_type": "code",
   "execution_count": 17,
   "id": "768d9e02",
   "metadata": {},
   "outputs": [
    {
     "data": {
      "text/plain": [
       "4487465"
      ]
     },
     "execution_count": 17,
     "metadata": {},
     "output_type": "execute_result"
    }
   ],
   "source": [
    "num_rows = cursor.fetchone()[0]\n",
    "num_rows"
   ]
  },
  {
   "cell_type": "code",
   "execution_count": 18,
   "id": "def842ce",
   "metadata": {},
   "outputs": [
    {
     "name": "stdout",
     "output_type": "stream",
     "text": [
      "'date': 14 occurrences of '000'\n",
      "'time': 3416252 occurrences of '000'\n",
      "'zone': 3960586 occurrences of '000'\n",
      "'race': 128456 occurrences of '000'\n",
      "'sex': 50563 occurrences of '000'\n",
      "'type': 0 occurrences of '000'\n",
      "'arrest_made': 292092 occurrences of '000'\n",
      "'warning_issued': 32265 occurrences of '000'\n",
      "'outcome': 62292 occurrences of '000'\n",
      "'contraband_found': 4405599 occurrences of '000'\n",
      "'contraband_drugs': 4415747 occurrences of '000'\n",
      "'contraband_weapons': 4419940 occurrences of '000'\n",
      "'contraband_alcohol': 1070010 occurrences of '000'\n",
      "'contraband_other': 4413973 occurrences of '000'\n",
      "'frisk_performed': 3923163 occurrences of '000'\n",
      "'search_conducted': 259822 occurrences of '000'\n",
      "'search_basis': 4410301 occurrences of '000'\n",
      "'reason_for_search': 4469703 occurrences of '000'\n",
      "'reason_for_stop': 1950662 occurrences of '000'\n",
      "'vehicle_make': 4169348 occurrences of '000'\n",
      "'vehicle_model': 4257377 occurrences of '000'\n",
      "'state': 0 occurrences of '000'\n"
     ]
    }
   ],
   "source": [
    "table_info = conn.execute(\"PRAGMA table_info(traffic_data);\").fetchall()\n",
    "columns = [col[1] for col in table_info]\n",
    "dynamic_query = \"SELECT \" + \", \".join(\n",
    "    [f\"SUM(CASE WHEN {col} = '000' THEN 1 ELSE 0 END) AS {col}_count\" for col in columns]\n",
    ") + \" FROM traffic_data;\"\n",
    "\n",
    "\n",
    "cursor.execute(dynamic_query)\n",
    "column_000_counts = cursor.fetchone()\n",
    "\n",
    "\n",
    "for col, count in zip(columns, column_000_counts):\n",
    "    print(f\"'{col}': {count} occurrences of '000'\")\n",
    "\n",
    "\n",
    "conn.close()"
   ]
  },
  {
   "cell_type": "code",
   "execution_count": 19,
   "id": "71156c9b",
   "metadata": {},
   "outputs": [],
   "source": [
    "conn = sqlite3.connect(db_path)"
   ]
  },
  {
   "cell_type": "code",
   "execution_count": 20,
   "id": "d2629874",
   "metadata": {},
   "outputs": [],
   "source": [
    "table_info = conn.execute(\"PRAGMA table_info(traffic_data);\").fetchall()\n",
    "columns = [col[1] for col in table_info]"
   ]
  },
  {
   "cell_type": "code",
   "execution_count": 21,
   "id": "e14c5707",
   "metadata": {},
   "outputs": [],
   "source": [
    "dynamic_query = \"SELECT \" + \", \".join(\n",
    "    [f\"SUM(CASE WHEN {col} = '000' THEN 1 ELSE 0 END) AS {col}_count\" for col in columns]\n",
    ") + \" FROM traffic_data;\""
   ]
  },
  {
   "cell_type": "code",
   "execution_count": 22,
   "id": "535a78bb",
   "metadata": {},
   "outputs": [],
   "source": [
    "cursor = conn.cursor()\n",
    "cursor.execute(dynamic_query)\n",
    "column_000_counts = cursor.fetchone()"
   ]
  },
  {
   "cell_type": "code",
   "execution_count": 23,
   "id": "1133802a",
   "metadata": {},
   "outputs": [],
   "source": [
    "conn.close()"
   ]
  },
  {
   "cell_type": "code",
   "execution_count": 27,
   "id": "b5cb0ed4",
   "metadata": {},
   "outputs": [],
   "source": [
    "plt.figure(figsize=(12, 6))\n",
    "plt.bar(columns, column_000_counts, color='skyblue')\n",
    "plt.xlabel('Columns', fontsize=12)\n",
    "plt.ylabel('Count of Missing Values', fontsize=12)\n",
    "plt.title('Count of Missing Values in Each Column', fontsize=14)\n",
    "plt.xticks(rotation=45, ha='right', fontsize=10)\n",
    "plt.tight_layout()\n",
    "output_path = \"column_none_counts.pdf\"\n",
    "plt.savefig(output_path, format=\"pdf\")\n",
    "plt.close()"
   ]
  },
  {
   "cell_type": "code",
   "execution_count": null,
   "id": "32ef2619",
   "metadata": {},
   "outputs": [],
   "source": []
  }
 ],
 "metadata": {
  "kernelspec": {
   "display_name": "madeEnv",
   "language": "python",
   "name": "python3"
  },
  "language_info": {
   "codemirror_mode": {
    "name": "ipython",
    "version": 3
   },
   "file_extension": ".py",
   "mimetype": "text/x-python",
   "name": "python",
   "nbconvert_exporter": "python",
   "pygments_lexer": "ipython3",
   "version": "3.12.2"
  }
 },
 "nbformat": 4,
 "nbformat_minor": 5
}
